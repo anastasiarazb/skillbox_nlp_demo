{
 "cells": [
  {
   "cell_type": "code",
   "execution_count": 1,
   "metadata": {},
   "outputs": [],
   "source": [
    "import pandas as pd\n",
    "import numpy as np\n",
    "from sklearn.feature_extraction.text import TfidfVectorizer\n",
    "from sklearn.linear_model import LogisticRegression\n",
    "from sklearn.metrics import accuracy_score, confusion_matrix\n",
    "from sklearn.model_selection import cross_val_score\n",
    "from sklearn import ensemble, metrics"
   ]
  },
  {
   "cell_type": "code",
   "execution_count": 16,
   "metadata": {},
   "outputs": [
    {
     "name": "stdout",
     "output_type": "stream",
     "text": [
      "24467\n"
     ]
    },
    {
     "data": {
      "text/html": [
       "<div>\n",
       "<style scoped>\n",
       "    .dataframe tbody tr th:only-of-type {\n",
       "        vertical-align: middle;\n",
       "    }\n",
       "\n",
       "    .dataframe tbody tr th {\n",
       "        vertical-align: top;\n",
       "    }\n",
       "\n",
       "    .dataframe thead th {\n",
       "        text-align: right;\n",
       "    }\n",
       "</style>\n",
       "<table border=\"1\" class=\"dataframe\">\n",
       "  <thead>\n",
       "    <tr style=\"text-align: right;\">\n",
       "      <th></th>\n",
       "      <th>url</th>\n",
       "      <th>title</th>\n",
       "      <th>text</th>\n",
       "      <th>topic</th>\n",
       "      <th>tags</th>\n",
       "    </tr>\n",
       "  </thead>\n",
       "  <tbody>\n",
       "    <tr>\n",
       "      <th>0</th>\n",
       "      <td>https://lenta.ru/news/2018/12/15/doping/</td>\n",
       "      <td>Австрия не представила доказательств вины росс...</td>\n",
       "      <td>Австрийские правоохранительные органы не предс...</td>\n",
       "      <td>Спорт</td>\n",
       "      <td>Зимние виды</td>\n",
       "    </tr>\n",
       "    <tr>\n",
       "      <th>1</th>\n",
       "      <td>https://lenta.ru/news/2018/12/15/sobor/</td>\n",
       "      <td>Архиепископ канонической УПЦ отказался прийти ...</td>\n",
       "      <td>Архиепископ канонической Украинской православн...</td>\n",
       "      <td>Бывший СССР</td>\n",
       "      <td>Украина</td>\n",
       "    </tr>\n",
       "    <tr>\n",
       "      <th>2</th>\n",
       "      <td>https://lenta.ru/news/2018/12/15/ovechkin/</td>\n",
       "      <td>Овечкин повторил свой рекорд</td>\n",
       "      <td>Капитан «Вашингтона» Александр Овечкин сделал...</td>\n",
       "      <td>Спорт</td>\n",
       "      <td>Хоккей</td>\n",
       "    </tr>\n",
       "    <tr>\n",
       "      <th>3</th>\n",
       "      <td>https://lenta.ru/news/2018/12/15/newyear/</td>\n",
       "      <td>Названы регионы России с самым дорогим и дешев...</td>\n",
       "      <td>Производитель онлайн-касс «Эвотор» проанализир...</td>\n",
       "      <td>Экономика</td>\n",
       "      <td>Деньги</td>\n",
       "    </tr>\n",
       "    <tr>\n",
       "      <th>4</th>\n",
       "      <td>https://lenta.ru/news/2018/12/15/gaz/</td>\n",
       "      <td>Россию и Украину пригласили на переговоры по газу</td>\n",
       "      <td>Вице-президент Еврокомиссии Марош Шефчович при...</td>\n",
       "      <td>Экономика</td>\n",
       "      <td>Госэкономика</td>\n",
       "    </tr>\n",
       "  </tbody>\n",
       "</table>\n",
       "</div>"
      ],
      "text/plain": [
       "                                          url  \\\n",
       "0    https://lenta.ru/news/2018/12/15/doping/   \n",
       "1     https://lenta.ru/news/2018/12/15/sobor/   \n",
       "2  https://lenta.ru/news/2018/12/15/ovechkin/   \n",
       "3   https://lenta.ru/news/2018/12/15/newyear/   \n",
       "4       https://lenta.ru/news/2018/12/15/gaz/   \n",
       "\n",
       "                                               title  \\\n",
       "0  Австрия не представила доказательств вины росс...   \n",
       "1  Архиепископ канонической УПЦ отказался прийти ...   \n",
       "2                       Овечкин повторил свой рекорд   \n",
       "3  Названы регионы России с самым дорогим и дешев...   \n",
       "4  Россию и Украину пригласили на переговоры по газу   \n",
       "\n",
       "                                                text        topic  \\\n",
       "0  Австрийские правоохранительные органы не предс...        Спорт   \n",
       "1  Архиепископ канонической Украинской православн...  Бывший СССР   \n",
       "2   Капитан «Вашингтона» Александр Овечкин сделал...        Спорт   \n",
       "3  Производитель онлайн-касс «Эвотор» проанализир...    Экономика   \n",
       "4  Вице-президент Еврокомиссии Марош Шефчович при...    Экономика   \n",
       "\n",
       "           tags  \n",
       "0   Зимние виды  \n",
       "1       Украина  \n",
       "2        Хоккей  \n",
       "3        Деньги  \n",
       "4  Госэкономика  "
      ]
     },
     "execution_count": 16,
     "metadata": {},
     "output_type": "execute_result"
    }
   ],
   "source": [
    "# читаем массив данных\n",
    "data = pd.read_csv('lenta_example.csv')\n",
    "print(len(data))\n",
    "data.head()"
   ]
  },
  {
   "cell_type": "markdown",
   "metadata": {},
   "source": [
    "**Векторизация** - процесс превращения объекта в массив чисел\n",
    "\n",
    "До:\n",
    "\n",
    "$$ a = \\text{\"мама мыла раму\"}, $$\n",
    "$$ b = \\text{\"папа мыл апельсин\"} $$\n",
    "\n",
    "После:\n",
    "\n",
    "|   | апельсин  |  мама | мыть  |  папа |  рама  |\n",
    "|---|---|---|---|---|---|\n",
    "|a |  0 | 1  | 1  |  0 | 1  |\n",
    "| b |  1 | 0  | 1  |  1 | 0  |"
   ]
  },
  {
   "cell_type": "code",
   "execution_count": 4,
   "metadata": {},
   "outputs": [
    {
     "data": {
      "text/plain": [
       "<24467x195536 sparse matrix of type '<class 'numpy.float64'>'\n",
       "\twith 3151943 stored elements in Compressed Sparse Row format>"
      ]
     },
     "execution_count": 4,
     "metadata": {},
     "output_type": "execute_result"
    }
   ],
   "source": [
    "# делаем векторизацию - превращаем текст в набор чисел\n",
    "vectorizer=TfidfVectorizer(analyzer='word')\n",
    "vectorizer.fit_transform(data['text'] )"
   ]
  },
  {
   "cell_type": "markdown",
   "metadata": {},
   "source": [
    "## Алгоритм действий\n",
    "Дано: data + answers\n",
    "\n",
    "- Делим данные: \n",
    "\n",
    "$$data = train\\_data + test\\_data$$\n",
    "\n",
    "\n",
    "- Обучаем: \n",
    "\n",
    "$$(train\\_data + answers) \\xrightarrow{\\text{обучение}}  model.fit() \\rightarrow \\textit{обученная модель} $$\n",
    "\n",
    "\n",
    "- Проверяем:\n",
    "\n",
    "$$test\\_data \\xrightarrow{\\text{предсказание}} model.predict()  \\rightarrow \\textit{ответы}$$\n",
    "\n",
    "\n",
    "- Оцениваем результат:\n",
    "\n",
    "$$Accuracy = \\frac{Угаданные\\ верно\\ ответы}{Всего\\ данных}$$"
   ]
  },
  {
   "cell_type": "code",
   "execution_count": 5,
   "metadata": {},
   "outputs": [],
   "source": [
    "# формируем обучающую выборку\n",
    "X_train = data.tail(10000)['text']\n",
    "X_train = vectorizer.fit_transform(X_train)\n",
    "y_train = data.tail(10000)['topic']\n",
    "\n",
    "# формируем тестовую выборку\n",
    "X_test = data.head(10000)['text']\n",
    "X_test = vectorizer.transform(X_test)\n",
    "y_test = data.head(10000)['topic']"
   ]
  },
  {
   "cell_type": "code",
   "execution_count": 6,
   "metadata": {},
   "outputs": [],
   "source": [
    "# обучаем модель\n",
    "model = LogisticRegression()\n",
    "model.fit(X_train, y_train)\n",
    "result = model.predict(X_test)"
   ]
  },
  {
   "cell_type": "code",
   "execution_count": 7,
   "metadata": {},
   "outputs": [
    {
     "name": "stdout",
     "output_type": "stream",
     "text": [
      "train -  0.9784\n",
      "test -  0.9297\n",
      "                 precision    recall  f1-score   support\n",
      "\n",
      "    Бывший СССР       0.95      0.89      0.92      1489\n",
      "            Дом       0.93      0.85      0.89       740\n",
      "       Культура       0.92      0.94      0.93      1307\n",
      "Наука и техника       0.93      0.94      0.94      1387\n",
      "          Спорт       0.97      0.98      0.97      2216\n",
      "       Ценности       0.96      0.84      0.90       784\n",
      "      Экономика       0.87      0.95      0.91      2077\n",
      "\n",
      "    avg / total       0.93      0.93      0.93     10000\n",
      "\n",
      "[[1324    9   11   28   11    3  103]\n",
      " [   1  631   14    4    9    3   78]\n",
      " [  16    4 1229   14   14    3   27]\n",
      " [   9    0    7 1309    4    3   55]\n",
      " [  17   11    9    3 2167    0    9]\n",
      " [   1    3   54   31   17  661   17]\n",
      " [  23   24    6   24   10   14 1976]]\n"
     ]
    }
   ],
   "source": [
    "# посмотрим на результаты\n",
    "print ('train - ', model.score(X_train, y_train))\n",
    "print ('test - ', metrics.accuracy_score(y_test, result))\n",
    "print (metrics.classification_report(y_test, result))\n",
    "print (metrics.confusion_matrix(y_test, result))"
   ]
  },
  {
   "cell_type": "code",
   "execution_count": 8,
   "metadata": {},
   "outputs": [
    {
     "data": {
      "text/plain": [
       "array(['Культура'], dtype=object)"
      ]
     },
     "execution_count": 8,
     "metadata": {},
     "output_type": "execute_result"
    }
   ],
   "source": [
    "# попробуем проверить модель вручную\n",
    "model.predict(vectorizer.transform(['В Омске прошла выставка жареных гвоздей']))"
   ]
  },
  {
   "cell_type": "code",
   "execution_count": 9,
   "metadata": {},
   "outputs": [],
   "source": [
    "# аренда жилья превысила спрос 2018 года\n",
    "# на форуме инноваций Греф презентовал новую платформу для игры на бирже\n",
    "# В Омске прошла выставка жареных гвоздей\n",
    "# Трамп наложил новые тарифы на сталь из китая из-за этого было открыто несколько заводов"
   ]
  },
  {
   "cell_type": "code",
   "execution_count": 10,
   "metadata": {},
   "outputs": [
    {
     "data": {
      "text/plain": [
       "array(['Дом'], dtype=object)"
      ]
     },
     "execution_count": 10,
     "metadata": {},
     "output_type": "execute_result"
    }
   ],
   "source": [
    "model.predict(vectorizer.transform([' аренда жилья превысила спрос 2018 года']))"
   ]
  },
  {
   "cell_type": "code",
   "execution_count": null,
   "metadata": {},
   "outputs": [],
   "source": []
  }
 ],
 "metadata": {
  "kernelspec": {
   "display_name": "Python 3",
   "language": "python",
   "name": "python3"
  },
  "language_info": {
   "codemirror_mode": {
    "name": "ipython",
    "version": 3
   },
   "file_extension": ".py",
   "mimetype": "text/x-python",
   "name": "python",
   "nbconvert_exporter": "python",
   "pygments_lexer": "ipython3",
   "version": "3.6.5"
  }
 },
 "nbformat": 4,
 "nbformat_minor": 2
}
