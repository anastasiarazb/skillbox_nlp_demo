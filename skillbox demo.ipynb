{
 "cells": [
  {
   "cell_type": "code",
   "execution_count": 60,
   "metadata": {},
   "outputs": [],
   "source": [
    "import pandas as pd\n",
    "import numpy as np\n",
    "from sklearn.feature_extraction.text import TfidfVectorizer\n",
    "from sklearn.linear_model import LogisticRegression\n",
    "from sklearn.naive_bayes import ComplementNB\n",
    "from sklearn.metrics import accuracy_score, confusion_matrix\n",
    "from sklearn.model_selection import cross_val_score\n",
    "from sklearn import ensemble, metrics"
   ]
  },
  {
   "cell_type": "code",
   "execution_count": 2,
   "metadata": {},
   "outputs": [
    {
     "name": "stdout",
     "output_type": "stream",
     "text": [
      "24467\n"
     ]
    },
    {
     "data": {
      "text/html": [
       "<div>\n",
       "<style scoped>\n",
       "    .dataframe tbody tr th:only-of-type {\n",
       "        vertical-align: middle;\n",
       "    }\n",
       "\n",
       "    .dataframe tbody tr th {\n",
       "        vertical-align: top;\n",
       "    }\n",
       "\n",
       "    .dataframe thead th {\n",
       "        text-align: right;\n",
       "    }\n",
       "</style>\n",
       "<table border=\"1\" class=\"dataframe\">\n",
       "  <thead>\n",
       "    <tr style=\"text-align: right;\">\n",
       "      <th></th>\n",
       "      <th>url</th>\n",
       "      <th>title</th>\n",
       "      <th>text</th>\n",
       "      <th>topic</th>\n",
       "      <th>tags</th>\n",
       "    </tr>\n",
       "  </thead>\n",
       "  <tbody>\n",
       "    <tr>\n",
       "      <td>0</td>\n",
       "      <td>https://lenta.ru/news/2018/12/15/doping/</td>\n",
       "      <td>Австрия не представила доказательств вины росс...</td>\n",
       "      <td>Австрийские правоохранительные органы не предс...</td>\n",
       "      <td>Спорт</td>\n",
       "      <td>Зимние виды</td>\n",
       "    </tr>\n",
       "    <tr>\n",
       "      <td>1</td>\n",
       "      <td>https://lenta.ru/news/2018/12/15/sobor/</td>\n",
       "      <td>Архиепископ канонической УПЦ отказался прийти ...</td>\n",
       "      <td>Архиепископ канонической Украинской православн...</td>\n",
       "      <td>Бывший СССР</td>\n",
       "      <td>Украина</td>\n",
       "    </tr>\n",
       "    <tr>\n",
       "      <td>2</td>\n",
       "      <td>https://lenta.ru/news/2018/12/15/ovechkin/</td>\n",
       "      <td>Овечкин повторил свой рекорд</td>\n",
       "      <td>Капитан «Вашингтона» Александр Овечкин сделал...</td>\n",
       "      <td>Спорт</td>\n",
       "      <td>Хоккей</td>\n",
       "    </tr>\n",
       "    <tr>\n",
       "      <td>3</td>\n",
       "      <td>https://lenta.ru/news/2018/12/15/newyear/</td>\n",
       "      <td>Названы регионы России с самым дорогим и дешев...</td>\n",
       "      <td>Производитель онлайн-касс «Эвотор» проанализир...</td>\n",
       "      <td>Экономика</td>\n",
       "      <td>Деньги</td>\n",
       "    </tr>\n",
       "    <tr>\n",
       "      <td>4</td>\n",
       "      <td>https://lenta.ru/news/2018/12/15/gaz/</td>\n",
       "      <td>Россию и Украину пригласили на переговоры по газу</td>\n",
       "      <td>Вице-президент Еврокомиссии Марош Шефчович при...</td>\n",
       "      <td>Экономика</td>\n",
       "      <td>Госэкономика</td>\n",
       "    </tr>\n",
       "  </tbody>\n",
       "</table>\n",
       "</div>"
      ],
      "text/plain": [
       "                                          url  \\\n",
       "0    https://lenta.ru/news/2018/12/15/doping/   \n",
       "1     https://lenta.ru/news/2018/12/15/sobor/   \n",
       "2  https://lenta.ru/news/2018/12/15/ovechkin/   \n",
       "3   https://lenta.ru/news/2018/12/15/newyear/   \n",
       "4       https://lenta.ru/news/2018/12/15/gaz/   \n",
       "\n",
       "                                               title  \\\n",
       "0  Австрия не представила доказательств вины росс...   \n",
       "1  Архиепископ канонической УПЦ отказался прийти ...   \n",
       "2                       Овечкин повторил свой рекорд   \n",
       "3  Названы регионы России с самым дорогим и дешев...   \n",
       "4  Россию и Украину пригласили на переговоры по газу   \n",
       "\n",
       "                                                text        topic  \\\n",
       "0  Австрийские правоохранительные органы не предс...        Спорт   \n",
       "1  Архиепископ канонической Украинской православн...  Бывший СССР   \n",
       "2   Капитан «Вашингтона» Александр Овечкин сделал...        Спорт   \n",
       "3  Производитель онлайн-касс «Эвотор» проанализир...    Экономика   \n",
       "4  Вице-президент Еврокомиссии Марош Шефчович при...    Экономика   \n",
       "\n",
       "           tags  \n",
       "0   Зимние виды  \n",
       "1       Украина  \n",
       "2        Хоккей  \n",
       "3        Деньги  \n",
       "4  Госэкономика  "
      ]
     },
     "execution_count": 2,
     "metadata": {},
     "output_type": "execute_result"
    }
   ],
   "source": [
    "# читаем массив данных\n",
    "data = pd.read_csv('lenta_example.csv')\n",
    "print(len(data))\n",
    "data.head()"
   ]
  },
  {
   "cell_type": "markdown",
   "metadata": {},
   "source": [
    "**Векторизация** - процесс превращения объекта в массив чисел\n",
    "\n",
    "До:\n",
    "\n",
    "$$ a = \\text{\"мама мыла раму\"}, $$\n",
    "$$ b = \\text{\"папа мыл апельсин\"} $$\n",
    "\n",
    "После:\n",
    "\n",
    "|   | апельсин  |  мама | мыть  |  папа |  рама  |\n",
    "|---|---|---|---|---|---|\n",
    "|a |  0 | 1  | 1  |  0 | 1  |\n",
    "| b |  1 | 0  | 1  |  1 | 0  |"
   ]
  },
  {
   "cell_type": "code",
   "execution_count": 47,
   "metadata": {},
   "outputs": [
    {
     "data": {
      "text/plain": [
       "False"
      ]
     },
     "execution_count": 47,
     "metadata": {},
     "output_type": "execute_result"
    }
   ],
   "source": [
    "'Медведев' in vectorizer.get_feature_names()"
   ]
  },
  {
   "cell_type": "code",
   "execution_count": 48,
   "metadata": {},
   "outputs": [
    {
     "data": {
      "text/plain": [
       "<24467x195536 sparse matrix of type '<class 'numpy.float64'>'\n",
       "\twith 3151943 stored elements in Compressed Sparse Row format>"
      ]
     },
     "execution_count": 48,
     "metadata": {},
     "output_type": "execute_result"
    }
   ],
   "source": [
    "# делаем векторизацию - превращаем текст в набор чисел\n",
    "vectorizer=TfidfVectorizer(analyzer='word')\n",
    "vectorizer.fit_transform(data['text'] )"
   ]
  },
  {
   "cell_type": "markdown",
   "metadata": {},
   "source": [
    "## Алгоритм действий\n",
    "Дано: data + answers\n",
    "\n",
    "- Делим данные: \n",
    "\n",
    "$$data \\rightarrow train\\_data + test\\_data$$\n",
    "\n",
    "\n",
    "- Обучаем: \n",
    "\n",
    "$$(train\\_data + answers) \\xrightarrow{\\text{обучение}}  model.fit() \\rightarrow \\textit{обученная модель} $$\n",
    "\n",
    "\n",
    "- Проверяем:\n",
    "\n",
    "$$test\\_data \\xrightarrow{\\text{предсказание}} model.predict()  \\rightarrow \\textit{ответы модели}$$\n",
    "\n",
    "\n",
    "- Оцениваем результат:\n",
    "\n",
    "$$Accuracy = \\frac{Угаданные\\ верно\\ ответы}{Всего\\ данных}$$"
   ]
  },
  {
   "cell_type": "code",
   "execution_count": 76,
   "metadata": {},
   "outputs": [],
   "source": [
    "# формируем обучающую выборку\n",
    "train_data = data.tail(10000)['text']\n",
    "X_train = vectorizer.fit_transform(train_data).toarray()\n",
    "y_train = data.tail(10000)['topic']\n",
    "\n",
    "# формируем тестовую выборку\n",
    "test_data = data.head(10000)['text']\n",
    "X_test = vectorizer.transform(test_data).toarray()\n",
    "y_test = data.head(10000)['topic']"
   ]
  },
  {
   "cell_type": "code",
   "execution_count": 50,
   "metadata": {},
   "outputs": [
    {
     "data": {
      "text/plain": [
       "14467          Экономика\n",
       "14468           Ценности\n",
       "14469              Спорт\n",
       "14470           Культура\n",
       "14471                Дом\n",
       "              ...       \n",
       "24462          Экономика\n",
       "24463           Ценности\n",
       "24464           Ценности\n",
       "24465    Наука и техника\n",
       "24466              Спорт\n",
       "Name: topic, Length: 10000, dtype: object"
      ]
     },
     "execution_count": 50,
     "metadata": {},
     "output_type": "execute_result"
    }
   ],
   "source": [
    "y_train"
   ]
  },
  {
   "cell_type": "code",
   "execution_count": 77,
   "metadata": {},
   "outputs": [
    {
     "name": "stdout",
     "output_type": "stream",
     "text": [
      "Wall time: 11.2 s\n"
     ]
    }
   ],
   "source": [
    "%%time\n",
    "# обучаем модель\n",
    "# model = LogisticRegression(solver='liblinear')\n",
    "model = ComplementNB()\n",
    "model.fit(X_train, y_train)\n",
    "result = model.predict(X_test)"
   ]
  },
  {
   "cell_type": "code",
   "execution_count": 62,
   "metadata": {},
   "outputs": [
    {
     "data": {
      "text/plain": [
       "array(['Спорт', 'Бывший СССР', 'Спорт', ..., 'Экономика',\n",
       "       'Наука и техника', 'Культура'], dtype='<U15')"
      ]
     },
     "execution_count": 62,
     "metadata": {},
     "output_type": "execute_result"
    }
   ],
   "source": [
    "result"
   ]
  },
  {
   "cell_type": "code",
   "execution_count": 63,
   "metadata": {},
   "outputs": [
    {
     "data": {
      "text/plain": [
       "Спорт              5458\n",
       "Экономика          4915\n",
       "Наука и техника    3511\n",
       "Бывший СССР        3260\n",
       "Культура           3171\n",
       "Дом                2088\n",
       "Ценности           2064\n",
       "Name: topic, dtype: int64"
      ]
     },
     "execution_count": 63,
     "metadata": {},
     "output_type": "execute_result"
    }
   ],
   "source": [
    "# посмотрим, как распределены классы\n",
    "data['topic'].value_counts()"
   ]
  },
  {
   "cell_type": "code",
   "execution_count": 79,
   "metadata": {},
   "outputs": [
    {
     "name": "stdout",
     "output_type": "stream",
     "text": [
      "Доля правильных ответов:\n",
      "train -  0.9733\n",
      "test -  0.9272\n",
      "Wall time: 7.27 s\n"
     ]
    }
   ],
   "source": [
    "%%time\n",
    "# посмотрим на результаты\n",
    "print ('Доля правильных ответов:')\n",
    "print ('train - ', model.score(X_train, y_train))\n",
    "print ('test - ', model.score(X_test, y_test))"
   ]
  },
  {
   "cell_type": "code",
   "execution_count": 80,
   "metadata": {},
   "outputs": [
    {
     "data": {
      "text/html": [
       "<div>\n",
       "<style scoped>\n",
       "    .dataframe tbody tr th:only-of-type {\n",
       "        vertical-align: middle;\n",
       "    }\n",
       "\n",
       "    .dataframe tbody tr th {\n",
       "        vertical-align: top;\n",
       "    }\n",
       "\n",
       "    .dataframe thead th {\n",
       "        text-align: right;\n",
       "    }\n",
       "</style>\n",
       "<table border=\"1\" class=\"dataframe\">\n",
       "  <thead>\n",
       "    <tr style=\"text-align: right;\">\n",
       "      <th></th>\n",
       "      <th>Бывший СССР</th>\n",
       "      <th>Дом</th>\n",
       "      <th>Культура</th>\n",
       "      <th>Наука и техника</th>\n",
       "      <th>Спорт</th>\n",
       "      <th>Ценности</th>\n",
       "      <th>Экономика</th>\n",
       "    </tr>\n",
       "  </thead>\n",
       "  <tbody>\n",
       "    <tr>\n",
       "      <td>Бывший СССР</td>\n",
       "      <td>1294</td>\n",
       "      <td>10</td>\n",
       "      <td>9</td>\n",
       "      <td>33</td>\n",
       "      <td>19</td>\n",
       "      <td>3</td>\n",
       "      <td>121</td>\n",
       "    </tr>\n",
       "    <tr>\n",
       "      <td>Дом</td>\n",
       "      <td>0</td>\n",
       "      <td>590</td>\n",
       "      <td>11</td>\n",
       "      <td>4</td>\n",
       "      <td>12</td>\n",
       "      <td>1</td>\n",
       "      <td>122</td>\n",
       "    </tr>\n",
       "    <tr>\n",
       "      <td>Культура</td>\n",
       "      <td>33</td>\n",
       "      <td>3</td>\n",
       "      <td>1201</td>\n",
       "      <td>4</td>\n",
       "      <td>39</td>\n",
       "      <td>5</td>\n",
       "      <td>22</td>\n",
       "    </tr>\n",
       "    <tr>\n",
       "      <td>Наука и техника</td>\n",
       "      <td>10</td>\n",
       "      <td>0</td>\n",
       "      <td>7</td>\n",
       "      <td>1314</td>\n",
       "      <td>5</td>\n",
       "      <td>3</td>\n",
       "      <td>48</td>\n",
       "    </tr>\n",
       "    <tr>\n",
       "      <td>Спорт</td>\n",
       "      <td>4</td>\n",
       "      <td>1</td>\n",
       "      <td>1</td>\n",
       "      <td>0</td>\n",
       "      <td>2206</td>\n",
       "      <td>0</td>\n",
       "      <td>4</td>\n",
       "    </tr>\n",
       "    <tr>\n",
       "      <td>Ценности</td>\n",
       "      <td>3</td>\n",
       "      <td>4</td>\n",
       "      <td>45</td>\n",
       "      <td>23</td>\n",
       "      <td>24</td>\n",
       "      <td>669</td>\n",
       "      <td>16</td>\n",
       "    </tr>\n",
       "    <tr>\n",
       "      <td>Экономика</td>\n",
       "      <td>12</td>\n",
       "      <td>22</td>\n",
       "      <td>6</td>\n",
       "      <td>10</td>\n",
       "      <td>16</td>\n",
       "      <td>13</td>\n",
       "      <td>1998</td>\n",
       "    </tr>\n",
       "  </tbody>\n",
       "</table>\n",
       "</div>"
      ],
      "text/plain": [
       "                 Бывший СССР  Дом  Культура  Наука и техника  Спорт  Ценности  \\\n",
       "Бывший СССР             1294   10         9               33     19         3   \n",
       "Дом                        0  590        11                4     12         1   \n",
       "Культура                  33    3      1201                4     39         5   \n",
       "Наука и техника           10    0         7             1314      5         3   \n",
       "Спорт                      4    1         1                0   2206         0   \n",
       "Ценности                   3    4        45               23     24       669   \n",
       "Экономика                 12   22         6               10     16        13   \n",
       "\n",
       "                 Экономика  \n",
       "Бывший СССР            121  \n",
       "Дом                    122  \n",
       "Культура                22  \n",
       "Наука и техника         48  \n",
       "Спорт                    4  \n",
       "Ценности                16  \n",
       "Экономика             1998  "
      ]
     },
     "execution_count": 80,
     "metadata": {},
     "output_type": "execute_result"
    }
   ],
   "source": [
    "pd.DataFrame(metrics.confusion_matrix(y_test, result), index=model.classes_, columns=model.classes_)"
   ]
  },
  {
   "cell_type": "code",
   "execution_count": 81,
   "metadata": {},
   "outputs": [
    {
     "data": {
      "text/plain": [
       "array(['Наука и техника'], dtype='<U15')"
      ]
     },
     "execution_count": 81,
     "metadata": {},
     "output_type": "execute_result"
    }
   ],
   "source": [
    "# попробуем проверить модель вручную\n",
    "model.predict(vectorizer.transform(['ученые открыли лекарство от рака']))"
   ]
  },
  {
   "cell_type": "code",
   "execution_count": 25,
   "metadata": {},
   "outputs": [],
   "source": [
    "# аренда жилья превысила спрос 2018 года\n",
    "# на форуме инноваций Греф презентовал новую платформу для игры на бирже\n",
    "# Трамп наложил новые тарифы на сталь из китая из-за этого было открыто несколько заводов"
   ]
  },
  {
   "cell_type": "code",
   "execution_count": 82,
   "metadata": {},
   "outputs": [
    {
     "data": {
      "text/plain": [
       "array(['Дом'], dtype='<U15')"
      ]
     },
     "execution_count": 82,
     "metadata": {},
     "output_type": "execute_result"
    }
   ],
   "source": [
    "model.predict(vectorizer.transform(['Названы регионы России с самым дорогим и дешевым']))"
   ]
  },
  {
   "cell_type": "code",
   "execution_count": 83,
   "metadata": {},
   "outputs": [
    {
     "data": {
      "text/plain": [
       "array(['Культура'], dtype='<U15')"
      ]
     },
     "execution_count": 83,
     "metadata": {},
     "output_type": "execute_result"
    }
   ],
   "source": [
    "model.predict(vectorizer.transform(['выставка']).toarray())"
   ]
  },
  {
   "cell_type": "code",
   "execution_count": null,
   "metadata": {},
   "outputs": [],
   "source": []
  }
 ],
 "metadata": {
  "kernelspec": {
   "display_name": "Python 3",
   "language": "python",
   "name": "python3"
  },
  "language_info": {
   "codemirror_mode": {
    "name": "ipython",
    "version": 3
   },
   "file_extension": ".py",
   "mimetype": "text/x-python",
   "name": "python",
   "nbconvert_exporter": "python",
   "pygments_lexer": "ipython3",
   "version": "3.7.4"
  }
 },
 "nbformat": 4,
 "nbformat_minor": 2
}
